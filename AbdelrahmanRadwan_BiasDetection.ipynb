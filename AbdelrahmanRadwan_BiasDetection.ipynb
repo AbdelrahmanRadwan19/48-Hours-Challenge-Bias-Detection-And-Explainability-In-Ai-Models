{
  "nbformat": 4,
  "nbformat_minor": 0,
  "metadata": {
    "colab": {
      "provenance": []
    },
    "kernelspec": {
      "name": "python3",
      "display_name": "Python 3"
    },
    "language_info": {
      "name": "python"
    },
    "widgets": {
      "application/vnd.jupyter.widget-state+json": {
        "cc238801104b453a8149e2e1440d155a": {
          "model_module": "@jupyter-widgets/controls",
          "model_name": "HBoxModel",
          "model_module_version": "1.5.0",
          "state": {
            "_dom_classes": [],
            "_model_module": "@jupyter-widgets/controls",
            "_model_module_version": "1.5.0",
            "_model_name": "HBoxModel",
            "_view_count": null,
            "_view_module": "@jupyter-widgets/controls",
            "_view_module_version": "1.5.0",
            "_view_name": "HBoxView",
            "box_style": "",
            "children": [
              "IPY_MODEL_42bb9801bbe446399e4711fefe666d3e",
              "IPY_MODEL_cbbab14ecff048479782dbf3926f4162",
              "IPY_MODEL_eba4bed9f52a489d91839db7bb8a05d5"
            ],
            "layout": "IPY_MODEL_ca02d3f31d744f818efca1d8358da06f"
          }
        },
        "42bb9801bbe446399e4711fefe666d3e": {
          "model_module": "@jupyter-widgets/controls",
          "model_name": "HTMLModel",
          "model_module_version": "1.5.0",
          "state": {
            "_dom_classes": [],
            "_model_module": "@jupyter-widgets/controls",
            "_model_module_version": "1.5.0",
            "_model_name": "HTMLModel",
            "_view_count": null,
            "_view_module": "@jupyter-widgets/controls",
            "_view_module_version": "1.5.0",
            "_view_name": "HTMLView",
            "description": "",
            "description_tooltip": null,
            "layout": "IPY_MODEL_ec5e51923d384812a174bcba22700926",
            "placeholder": "​",
            "style": "IPY_MODEL_186a02544ae24f0cbc527b3868e155d2",
            "value": "100%"
          }
        },
        "cbbab14ecff048479782dbf3926f4162": {
          "model_module": "@jupyter-widgets/controls",
          "model_name": "FloatProgressModel",
          "model_module_version": "1.5.0",
          "state": {
            "_dom_classes": [],
            "_model_module": "@jupyter-widgets/controls",
            "_model_module_version": "1.5.0",
            "_model_name": "FloatProgressModel",
            "_view_count": null,
            "_view_module": "@jupyter-widgets/controls",
            "_view_module_version": "1.5.0",
            "_view_name": "ProgressView",
            "bar_style": "success",
            "description": "",
            "description_tooltip": null,
            "layout": "IPY_MODEL_100b45ab7b504be5b75cf25425e711f5",
            "max": 5,
            "min": 0,
            "orientation": "horizontal",
            "style": "IPY_MODEL_492241ed9b1843768ba2133284659548",
            "value": 5
          }
        },
        "eba4bed9f52a489d91839db7bb8a05d5": {
          "model_module": "@jupyter-widgets/controls",
          "model_name": "HTMLModel",
          "model_module_version": "1.5.0",
          "state": {
            "_dom_classes": [],
            "_model_module": "@jupyter-widgets/controls",
            "_model_module_version": "1.5.0",
            "_model_name": "HTMLModel",
            "_view_count": null,
            "_view_module": "@jupyter-widgets/controls",
            "_view_module_version": "1.5.0",
            "_view_name": "HTMLView",
            "description": "",
            "description_tooltip": null,
            "layout": "IPY_MODEL_df1bf9d2b1a44855981cdffdd43037f3",
            "placeholder": "​",
            "style": "IPY_MODEL_ee682dbdd648432c96945bd0c2940abe",
            "value": " 5/5 [00:04&lt;00:00,  1.14it/s]"
          }
        },
        "ca02d3f31d744f818efca1d8358da06f": {
          "model_module": "@jupyter-widgets/base",
          "model_name": "LayoutModel",
          "model_module_version": "1.2.0",
          "state": {
            "_model_module": "@jupyter-widgets/base",
            "_model_module_version": "1.2.0",
            "_model_name": "LayoutModel",
            "_view_count": null,
            "_view_module": "@jupyter-widgets/base",
            "_view_module_version": "1.2.0",
            "_view_name": "LayoutView",
            "align_content": null,
            "align_items": null,
            "align_self": null,
            "border": null,
            "bottom": null,
            "display": null,
            "flex": null,
            "flex_flow": null,
            "grid_area": null,
            "grid_auto_columns": null,
            "grid_auto_flow": null,
            "grid_auto_rows": null,
            "grid_column": null,
            "grid_gap": null,
            "grid_row": null,
            "grid_template_areas": null,
            "grid_template_columns": null,
            "grid_template_rows": null,
            "height": null,
            "justify_content": null,
            "justify_items": null,
            "left": null,
            "margin": null,
            "max_height": null,
            "max_width": null,
            "min_height": null,
            "min_width": null,
            "object_fit": null,
            "object_position": null,
            "order": null,
            "overflow": null,
            "overflow_x": null,
            "overflow_y": null,
            "padding": null,
            "right": null,
            "top": null,
            "visibility": null,
            "width": null
          }
        },
        "ec5e51923d384812a174bcba22700926": {
          "model_module": "@jupyter-widgets/base",
          "model_name": "LayoutModel",
          "model_module_version": "1.2.0",
          "state": {
            "_model_module": "@jupyter-widgets/base",
            "_model_module_version": "1.2.0",
            "_model_name": "LayoutModel",
            "_view_count": null,
            "_view_module": "@jupyter-widgets/base",
            "_view_module_version": "1.2.0",
            "_view_name": "LayoutView",
            "align_content": null,
            "align_items": null,
            "align_self": null,
            "border": null,
            "bottom": null,
            "display": null,
            "flex": null,
            "flex_flow": null,
            "grid_area": null,
            "grid_auto_columns": null,
            "grid_auto_flow": null,
            "grid_auto_rows": null,
            "grid_column": null,
            "grid_gap": null,
            "grid_row": null,
            "grid_template_areas": null,
            "grid_template_columns": null,
            "grid_template_rows": null,
            "height": null,
            "justify_content": null,
            "justify_items": null,
            "left": null,
            "margin": null,
            "max_height": null,
            "max_width": null,
            "min_height": null,
            "min_width": null,
            "object_fit": null,
            "object_position": null,
            "order": null,
            "overflow": null,
            "overflow_x": null,
            "overflow_y": null,
            "padding": null,
            "right": null,
            "top": null,
            "visibility": null,
            "width": null
          }
        },
        "186a02544ae24f0cbc527b3868e155d2": {
          "model_module": "@jupyter-widgets/controls",
          "model_name": "DescriptionStyleModel",
          "model_module_version": "1.5.0",
          "state": {
            "_model_module": "@jupyter-widgets/controls",
            "_model_module_version": "1.5.0",
            "_model_name": "DescriptionStyleModel",
            "_view_count": null,
            "_view_module": "@jupyter-widgets/base",
            "_view_module_version": "1.2.0",
            "_view_name": "StyleView",
            "description_width": ""
          }
        },
        "100b45ab7b504be5b75cf25425e711f5": {
          "model_module": "@jupyter-widgets/base",
          "model_name": "LayoutModel",
          "model_module_version": "1.2.0",
          "state": {
            "_model_module": "@jupyter-widgets/base",
            "_model_module_version": "1.2.0",
            "_model_name": "LayoutModel",
            "_view_count": null,
            "_view_module": "@jupyter-widgets/base",
            "_view_module_version": "1.2.0",
            "_view_name": "LayoutView",
            "align_content": null,
            "align_items": null,
            "align_self": null,
            "border": null,
            "bottom": null,
            "display": null,
            "flex": null,
            "flex_flow": null,
            "grid_area": null,
            "grid_auto_columns": null,
            "grid_auto_flow": null,
            "grid_auto_rows": null,
            "grid_column": null,
            "grid_gap": null,
            "grid_row": null,
            "grid_template_areas": null,
            "grid_template_columns": null,
            "grid_template_rows": null,
            "height": null,
            "justify_content": null,
            "justify_items": null,
            "left": null,
            "margin": null,
            "max_height": null,
            "max_width": null,
            "min_height": null,
            "min_width": null,
            "object_fit": null,
            "object_position": null,
            "order": null,
            "overflow": null,
            "overflow_x": null,
            "overflow_y": null,
            "padding": null,
            "right": null,
            "top": null,
            "visibility": null,
            "width": null
          }
        },
        "492241ed9b1843768ba2133284659548": {
          "model_module": "@jupyter-widgets/controls",
          "model_name": "ProgressStyleModel",
          "model_module_version": "1.5.0",
          "state": {
            "_model_module": "@jupyter-widgets/controls",
            "_model_module_version": "1.5.0",
            "_model_name": "ProgressStyleModel",
            "_view_count": null,
            "_view_module": "@jupyter-widgets/base",
            "_view_module_version": "1.2.0",
            "_view_name": "StyleView",
            "bar_color": null,
            "description_width": ""
          }
        },
        "df1bf9d2b1a44855981cdffdd43037f3": {
          "model_module": "@jupyter-widgets/base",
          "model_name": "LayoutModel",
          "model_module_version": "1.2.0",
          "state": {
            "_model_module": "@jupyter-widgets/base",
            "_model_module_version": "1.2.0",
            "_model_name": "LayoutModel",
            "_view_count": null,
            "_view_module": "@jupyter-widgets/base",
            "_view_module_version": "1.2.0",
            "_view_name": "LayoutView",
            "align_content": null,
            "align_items": null,
            "align_self": null,
            "border": null,
            "bottom": null,
            "display": null,
            "flex": null,
            "flex_flow": null,
            "grid_area": null,
            "grid_auto_columns": null,
            "grid_auto_flow": null,
            "grid_auto_rows": null,
            "grid_column": null,
            "grid_gap": null,
            "grid_row": null,
            "grid_template_areas": null,
            "grid_template_columns": null,
            "grid_template_rows": null,
            "height": null,
            "justify_content": null,
            "justify_items": null,
            "left": null,
            "margin": null,
            "max_height": null,
            "max_width": null,
            "min_height": null,
            "min_width": null,
            "object_fit": null,
            "object_position": null,
            "order": null,
            "overflow": null,
            "overflow_x": null,
            "overflow_y": null,
            "padding": null,
            "right": null,
            "top": null,
            "visibility": null,
            "width": null
          }
        },
        "ee682dbdd648432c96945bd0c2940abe": {
          "model_module": "@jupyter-widgets/controls",
          "model_name": "DescriptionStyleModel",
          "model_module_version": "1.5.0",
          "state": {
            "_model_module": "@jupyter-widgets/controls",
            "_model_module_version": "1.5.0",
            "_model_name": "DescriptionStyleModel",
            "_view_count": null,
            "_view_module": "@jupyter-widgets/base",
            "_view_module_version": "1.2.0",
            "_view_name": "StyleView",
            "description_width": ""
          }
        }
      }
    }
  },
  "cells": [
    {
      "cell_type": "markdown",
      "source": [
        "#Abdelrahman Radwan Mohamed Abdelaal"
      ],
      "metadata": {
        "id": "lYaFB41hVXMs"
      }
    },
    {
      "cell_type": "markdown",
      "source": [
        "#48 Hours Challenge: Bias Detection And Explainability In Ai Models"
      ],
      "metadata": {
        "id": "lmC_ANy5VZqY"
      }
    },
    {
      "cell_type": "markdown",
      "source": [
        "#1. Preparing Dataset"
      ],
      "metadata": {
        "id": "TUbe8dAgU3xH"
      }
    },
    {
      "cell_type": "code",
      "source": [
        "import pandas as pd\n",
        "import io\n",
        "\n",
        "csv_data = \"/content/drive/MyDrive/Nile/data (1).csv\"\n",
        "\n",
        "df = pd.read_csv(csv_data)\n",
        "df.head()"
      ],
      "metadata": {
        "colab": {
          "base_uri": "https://localhost:8080/",
          "height": 226
        },
        "id": "gfvHtw1O3Lnq",
        "outputId": "d12b45d6-6987-4e84-f243-ac523b9dd7cc"
      },
      "execution_count": 5,
      "outputs": [
        {
          "output_type": "execute_result",
          "data": {
            "text/plain": [
              "   Age  Gender  EducationLevel  ExperienceYears  PreviousCompanies  \\\n",
              "0   26       1               2                0                  3   \n",
              "1   39       1               4               12                  3   \n",
              "2   48       0               2                3                  2   \n",
              "3   34       1               2                5                  2   \n",
              "4   30       0               1                6                  1   \n",
              "\n",
              "   DistanceFromCompany  InterviewScore  SkillScore  PersonalityScore  \\\n",
              "0            26.783828              48          78                91   \n",
              "1            25.862694              35          68                80   \n",
              "2             9.920805              20          67                13   \n",
              "3             6.407751              36          27                70   \n",
              "4            43.105343              23          52                85   \n",
              "\n",
              "   RecruitmentStrategy  HiringDecision  \n",
              "0                    1               1  \n",
              "1                    2               1  \n",
              "2                    2               0  \n",
              "3                    3               0  \n",
              "4                    2               0  "
            ],
            "text/html": [
              "\n",
              "  <div id=\"df-31b87bd2-33fb-4f74-b11f-6277dab94e20\" class=\"colab-df-container\">\n",
              "    <div>\n",
              "<style scoped>\n",
              "    .dataframe tbody tr th:only-of-type {\n",
              "        vertical-align: middle;\n",
              "    }\n",
              "\n",
              "    .dataframe tbody tr th {\n",
              "        vertical-align: top;\n",
              "    }\n",
              "\n",
              "    .dataframe thead th {\n",
              "        text-align: right;\n",
              "    }\n",
              "</style>\n",
              "<table border=\"1\" class=\"dataframe\">\n",
              "  <thead>\n",
              "    <tr style=\"text-align: right;\">\n",
              "      <th></th>\n",
              "      <th>Age</th>\n",
              "      <th>Gender</th>\n",
              "      <th>EducationLevel</th>\n",
              "      <th>ExperienceYears</th>\n",
              "      <th>PreviousCompanies</th>\n",
              "      <th>DistanceFromCompany</th>\n",
              "      <th>InterviewScore</th>\n",
              "      <th>SkillScore</th>\n",
              "      <th>PersonalityScore</th>\n",
              "      <th>RecruitmentStrategy</th>\n",
              "      <th>HiringDecision</th>\n",
              "    </tr>\n",
              "  </thead>\n",
              "  <tbody>\n",
              "    <tr>\n",
              "      <th>0</th>\n",
              "      <td>26</td>\n",
              "      <td>1</td>\n",
              "      <td>2</td>\n",
              "      <td>0</td>\n",
              "      <td>3</td>\n",
              "      <td>26.783828</td>\n",
              "      <td>48</td>\n",
              "      <td>78</td>\n",
              "      <td>91</td>\n",
              "      <td>1</td>\n",
              "      <td>1</td>\n",
              "    </tr>\n",
              "    <tr>\n",
              "      <th>1</th>\n",
              "      <td>39</td>\n",
              "      <td>1</td>\n",
              "      <td>4</td>\n",
              "      <td>12</td>\n",
              "      <td>3</td>\n",
              "      <td>25.862694</td>\n",
              "      <td>35</td>\n",
              "      <td>68</td>\n",
              "      <td>80</td>\n",
              "      <td>2</td>\n",
              "      <td>1</td>\n",
              "    </tr>\n",
              "    <tr>\n",
              "      <th>2</th>\n",
              "      <td>48</td>\n",
              "      <td>0</td>\n",
              "      <td>2</td>\n",
              "      <td>3</td>\n",
              "      <td>2</td>\n",
              "      <td>9.920805</td>\n",
              "      <td>20</td>\n",
              "      <td>67</td>\n",
              "      <td>13</td>\n",
              "      <td>2</td>\n",
              "      <td>0</td>\n",
              "    </tr>\n",
              "    <tr>\n",
              "      <th>3</th>\n",
              "      <td>34</td>\n",
              "      <td>1</td>\n",
              "      <td>2</td>\n",
              "      <td>5</td>\n",
              "      <td>2</td>\n",
              "      <td>6.407751</td>\n",
              "      <td>36</td>\n",
              "      <td>27</td>\n",
              "      <td>70</td>\n",
              "      <td>3</td>\n",
              "      <td>0</td>\n",
              "    </tr>\n",
              "    <tr>\n",
              "      <th>4</th>\n",
              "      <td>30</td>\n",
              "      <td>0</td>\n",
              "      <td>1</td>\n",
              "      <td>6</td>\n",
              "      <td>1</td>\n",
              "      <td>43.105343</td>\n",
              "      <td>23</td>\n",
              "      <td>52</td>\n",
              "      <td>85</td>\n",
              "      <td>2</td>\n",
              "      <td>0</td>\n",
              "    </tr>\n",
              "  </tbody>\n",
              "</table>\n",
              "</div>\n",
              "    <div class=\"colab-df-buttons\">\n",
              "\n",
              "  <div class=\"colab-df-container\">\n",
              "    <button class=\"colab-df-convert\" onclick=\"convertToInteractive('df-31b87bd2-33fb-4f74-b11f-6277dab94e20')\"\n",
              "            title=\"Convert this dataframe to an interactive table.\"\n",
              "            style=\"display:none;\">\n",
              "\n",
              "  <svg xmlns=\"http://www.w3.org/2000/svg\" height=\"24px\" viewBox=\"0 -960 960 960\">\n",
              "    <path d=\"M120-120v-720h720v720H120Zm60-500h600v-160H180v160Zm220 220h160v-160H400v160Zm0 220h160v-160H400v160ZM180-400h160v-160H180v160Zm440 0h160v-160H620v160ZM180-180h160v-160H180v160Zm440 0h160v-160H620v160Z\"/>\n",
              "  </svg>\n",
              "    </button>\n",
              "\n",
              "  <style>\n",
              "    .colab-df-container {\n",
              "      display:flex;\n",
              "      gap: 12px;\n",
              "    }\n",
              "\n",
              "    .colab-df-convert {\n",
              "      background-color: #E8F0FE;\n",
              "      border: none;\n",
              "      border-radius: 50%;\n",
              "      cursor: pointer;\n",
              "      display: none;\n",
              "      fill: #1967D2;\n",
              "      height: 32px;\n",
              "      padding: 0 0 0 0;\n",
              "      width: 32px;\n",
              "    }\n",
              "\n",
              "    .colab-df-convert:hover {\n",
              "      background-color: #E2EBFA;\n",
              "      box-shadow: 0px 1px 2px rgba(60, 64, 67, 0.3), 0px 1px 3px 1px rgba(60, 64, 67, 0.15);\n",
              "      fill: #174EA6;\n",
              "    }\n",
              "\n",
              "    .colab-df-buttons div {\n",
              "      margin-bottom: 4px;\n",
              "    }\n",
              "\n",
              "    [theme=dark] .colab-df-convert {\n",
              "      background-color: #3B4455;\n",
              "      fill: #D2E3FC;\n",
              "    }\n",
              "\n",
              "    [theme=dark] .colab-df-convert:hover {\n",
              "      background-color: #434B5C;\n",
              "      box-shadow: 0px 1px 3px 1px rgba(0, 0, 0, 0.15);\n",
              "      filter: drop-shadow(0px 1px 2px rgba(0, 0, 0, 0.3));\n",
              "      fill: #FFFFFF;\n",
              "    }\n",
              "  </style>\n",
              "\n",
              "    <script>\n",
              "      const buttonEl =\n",
              "        document.querySelector('#df-31b87bd2-33fb-4f74-b11f-6277dab94e20 button.colab-df-convert');\n",
              "      buttonEl.style.display =\n",
              "        google.colab.kernel.accessAllowed ? 'block' : 'none';\n",
              "\n",
              "      async function convertToInteractive(key) {\n",
              "        const element = document.querySelector('#df-31b87bd2-33fb-4f74-b11f-6277dab94e20');\n",
              "        const dataTable =\n",
              "          await google.colab.kernel.invokeFunction('convertToInteractive',\n",
              "                                                    [key], {});\n",
              "        if (!dataTable) return;\n",
              "\n",
              "        const docLinkHtml = 'Like what you see? Visit the ' +\n",
              "          '<a target=\"_blank\" href=https://colab.research.google.com/notebooks/data_table.ipynb>data table notebook</a>'\n",
              "          + ' to learn more about interactive tables.';\n",
              "        element.innerHTML = '';\n",
              "        dataTable['output_type'] = 'display_data';\n",
              "        await google.colab.output.renderOutput(dataTable, element);\n",
              "        const docLink = document.createElement('div');\n",
              "        docLink.innerHTML = docLinkHtml;\n",
              "        element.appendChild(docLink);\n",
              "      }\n",
              "    </script>\n",
              "  </div>\n",
              "\n",
              "\n",
              "    <div id=\"df-b8c7c787-e96b-41a2-a3db-fdafbfba11b7\">\n",
              "      <button class=\"colab-df-quickchart\" onclick=\"quickchart('df-b8c7c787-e96b-41a2-a3db-fdafbfba11b7')\"\n",
              "                title=\"Suggest charts\"\n",
              "                style=\"display:none;\">\n",
              "\n",
              "<svg xmlns=\"http://www.w3.org/2000/svg\" height=\"24px\"viewBox=\"0 0 24 24\"\n",
              "     width=\"24px\">\n",
              "    <g>\n",
              "        <path d=\"M19 3H5c-1.1 0-2 .9-2 2v14c0 1.1.9 2 2 2h14c1.1 0 2-.9 2-2V5c0-1.1-.9-2-2-2zM9 17H7v-7h2v7zm4 0h-2V7h2v10zm4 0h-2v-4h2v4z\"/>\n",
              "    </g>\n",
              "</svg>\n",
              "      </button>\n",
              "\n",
              "<style>\n",
              "  .colab-df-quickchart {\n",
              "      --bg-color: #E8F0FE;\n",
              "      --fill-color: #1967D2;\n",
              "      --hover-bg-color: #E2EBFA;\n",
              "      --hover-fill-color: #174EA6;\n",
              "      --disabled-fill-color: #AAA;\n",
              "      --disabled-bg-color: #DDD;\n",
              "  }\n",
              "\n",
              "  [theme=dark] .colab-df-quickchart {\n",
              "      --bg-color: #3B4455;\n",
              "      --fill-color: #D2E3FC;\n",
              "      --hover-bg-color: #434B5C;\n",
              "      --hover-fill-color: #FFFFFF;\n",
              "      --disabled-bg-color: #3B4455;\n",
              "      --disabled-fill-color: #666;\n",
              "  }\n",
              "\n",
              "  .colab-df-quickchart {\n",
              "    background-color: var(--bg-color);\n",
              "    border: none;\n",
              "    border-radius: 50%;\n",
              "    cursor: pointer;\n",
              "    display: none;\n",
              "    fill: var(--fill-color);\n",
              "    height: 32px;\n",
              "    padding: 0;\n",
              "    width: 32px;\n",
              "  }\n",
              "\n",
              "  .colab-df-quickchart:hover {\n",
              "    background-color: var(--hover-bg-color);\n",
              "    box-shadow: 0 1px 2px rgba(60, 64, 67, 0.3), 0 1px 3px 1px rgba(60, 64, 67, 0.15);\n",
              "    fill: var(--button-hover-fill-color);\n",
              "  }\n",
              "\n",
              "  .colab-df-quickchart-complete:disabled,\n",
              "  .colab-df-quickchart-complete:disabled:hover {\n",
              "    background-color: var(--disabled-bg-color);\n",
              "    fill: var(--disabled-fill-color);\n",
              "    box-shadow: none;\n",
              "  }\n",
              "\n",
              "  .colab-df-spinner {\n",
              "    border: 2px solid var(--fill-color);\n",
              "    border-color: transparent;\n",
              "    border-bottom-color: var(--fill-color);\n",
              "    animation:\n",
              "      spin 1s steps(1) infinite;\n",
              "  }\n",
              "\n",
              "  @keyframes spin {\n",
              "    0% {\n",
              "      border-color: transparent;\n",
              "      border-bottom-color: var(--fill-color);\n",
              "      border-left-color: var(--fill-color);\n",
              "    }\n",
              "    20% {\n",
              "      border-color: transparent;\n",
              "      border-left-color: var(--fill-color);\n",
              "      border-top-color: var(--fill-color);\n",
              "    }\n",
              "    30% {\n",
              "      border-color: transparent;\n",
              "      border-left-color: var(--fill-color);\n",
              "      border-top-color: var(--fill-color);\n",
              "      border-right-color: var(--fill-color);\n",
              "    }\n",
              "    40% {\n",
              "      border-color: transparent;\n",
              "      border-right-color: var(--fill-color);\n",
              "      border-top-color: var(--fill-color);\n",
              "    }\n",
              "    60% {\n",
              "      border-color: transparent;\n",
              "      border-right-color: var(--fill-color);\n",
              "    }\n",
              "    80% {\n",
              "      border-color: transparent;\n",
              "      border-right-color: var(--fill-color);\n",
              "      border-bottom-color: var(--fill-color);\n",
              "    }\n",
              "    90% {\n",
              "      border-color: transparent;\n",
              "      border-bottom-color: var(--fill-color);\n",
              "    }\n",
              "  }\n",
              "</style>\n",
              "\n",
              "      <script>\n",
              "        async function quickchart(key) {\n",
              "          const quickchartButtonEl =\n",
              "            document.querySelector('#' + key + ' button');\n",
              "          quickchartButtonEl.disabled = true;  // To prevent multiple clicks.\n",
              "          quickchartButtonEl.classList.add('colab-df-spinner');\n",
              "          try {\n",
              "            const charts = await google.colab.kernel.invokeFunction(\n",
              "                'suggestCharts', [key], {});\n",
              "          } catch (error) {\n",
              "            console.error('Error during call to suggestCharts:', error);\n",
              "          }\n",
              "          quickchartButtonEl.classList.remove('colab-df-spinner');\n",
              "          quickchartButtonEl.classList.add('colab-df-quickchart-complete');\n",
              "        }\n",
              "        (() => {\n",
              "          let quickchartButtonEl =\n",
              "            document.querySelector('#df-b8c7c787-e96b-41a2-a3db-fdafbfba11b7 button');\n",
              "          quickchartButtonEl.style.display =\n",
              "            google.colab.kernel.accessAllowed ? 'block' : 'none';\n",
              "        })();\n",
              "      </script>\n",
              "    </div>\n",
              "\n",
              "    </div>\n",
              "  </div>\n"
            ],
            "application/vnd.google.colaboratory.intrinsic+json": {
              "type": "dataframe",
              "variable_name": "df",
              "summary": "{\n  \"name\": \"df\",\n  \"rows\": 1500,\n  \"fields\": [\n    {\n      \"column\": \"Age\",\n      \"properties\": {\n        \"dtype\": \"number\",\n        \"std\": 9,\n        \"min\": 20,\n        \"max\": 50,\n        \"num_unique_values\": 31,\n        \"samples\": [\n          28,\n          31,\n          50\n        ],\n        \"semantic_type\": \"\",\n        \"description\": \"\"\n      }\n    },\n    {\n      \"column\": \"Gender\",\n      \"properties\": {\n        \"dtype\": \"number\",\n        \"std\": 0,\n        \"min\": 0,\n        \"max\": 1,\n        \"num_unique_values\": 2,\n        \"samples\": [\n          0,\n          1\n        ],\n        \"semantic_type\": \"\",\n        \"description\": \"\"\n      }\n    },\n    {\n      \"column\": \"EducationLevel\",\n      \"properties\": {\n        \"dtype\": \"number\",\n        \"std\": 0,\n        \"min\": 1,\n        \"max\": 4,\n        \"num_unique_values\": 4,\n        \"samples\": [\n          4,\n          3\n        ],\n        \"semantic_type\": \"\",\n        \"description\": \"\"\n      }\n    },\n    {\n      \"column\": \"ExperienceYears\",\n      \"properties\": {\n        \"dtype\": \"number\",\n        \"std\": 4,\n        \"min\": 0,\n        \"max\": 15,\n        \"num_unique_values\": 16,\n        \"samples\": [\n          0,\n          12\n        ],\n        \"semantic_type\": \"\",\n        \"description\": \"\"\n      }\n    },\n    {\n      \"column\": \"PreviousCompanies\",\n      \"properties\": {\n        \"dtype\": \"number\",\n        \"std\": 1,\n        \"min\": 1,\n        \"max\": 5,\n        \"num_unique_values\": 5,\n        \"samples\": [\n          2,\n          5\n        ],\n        \"semantic_type\": \"\",\n        \"description\": \"\"\n      }\n    },\n    {\n      \"column\": \"DistanceFromCompany\",\n      \"properties\": {\n        \"dtype\": \"number\",\n        \"std\": 14.567151397745041,\n        \"min\": 1.0313758314228083,\n        \"max\": 50.99246222432001,\n        \"num_unique_values\": 1500,\n        \"samples\": [\n          30.16380985695483,\n          46.30095355221816\n        ],\n        \"semantic_type\": \"\",\n        \"description\": \"\"\n      }\n    },\n    {\n      \"column\": \"InterviewScore\",\n      \"properties\": {\n        \"dtype\": \"number\",\n        \"std\": 28,\n        \"min\": 0,\n        \"max\": 100,\n        \"num_unique_values\": 101,\n        \"samples\": [\n          49,\n          81\n        ],\n        \"semantic_type\": \"\",\n        \"description\": \"\"\n      }\n    },\n    {\n      \"column\": \"SkillScore\",\n      \"properties\": {\n        \"dtype\": \"number\",\n        \"std\": 29,\n        \"min\": 0,\n        \"max\": 100,\n        \"num_unique_values\": 101,\n        \"samples\": [\n          1,\n          76\n        ],\n        \"semantic_type\": \"\",\n        \"description\": \"\"\n      }\n    },\n    {\n      \"column\": \"PersonalityScore\",\n      \"properties\": {\n        \"dtype\": \"number\",\n        \"std\": 29,\n        \"min\": 0,\n        \"max\": 100,\n        \"num_unique_values\": 101,\n        \"samples\": [\n          75,\n          46\n        ],\n        \"semantic_type\": \"\",\n        \"description\": \"\"\n      }\n    },\n    {\n      \"column\": \"RecruitmentStrategy\",\n      \"properties\": {\n        \"dtype\": \"number\",\n        \"std\": 0,\n        \"min\": 1,\n        \"max\": 3,\n        \"num_unique_values\": 3,\n        \"samples\": [\n          1,\n          2\n        ],\n        \"semantic_type\": \"\",\n        \"description\": \"\"\n      }\n    },\n    {\n      \"column\": \"HiringDecision\",\n      \"properties\": {\n        \"dtype\": \"number\",\n        \"std\": 0,\n        \"min\": 0,\n        \"max\": 1,\n        \"num_unique_values\": 2,\n        \"samples\": [\n          0,\n          1\n        ],\n        \"semantic_type\": \"\",\n        \"description\": \"\"\n      }\n    }\n  ]\n}"
            }
          },
          "metadata": {},
          "execution_count": 5
        }
      ]
    },
    {
      "cell_type": "markdown",
      "source": [
        "next, we will combine relevant columns into a single text column"
      ],
      "metadata": {
        "id": "Xq8p9win_X8E"
      }
    },
    {
      "cell_type": "code",
      "metadata": {
        "colab": {
          "base_uri": "https://localhost:8080/",
          "height": 206
        },
        "id": "a0e0d49a",
        "outputId": "bbb6b418-633e-4322-b430-0861baa74c3a"
      },
      "source": [
        "df['features_text'] = df.apply(lambda row: f\"Gender: {row['Gender']} EducationLevel: {row['EducationLevel']} ExperienceYears: {row['ExperienceYears']} PreviousCompanies: {row['PreviousCompanies']} InterviewScore: {row['InterviewScore']} SkillScore: {row['SkillScore']} PersonalityScore: {row['PersonalityScore']} RecruitmentStrategy: {row['RecruitmentStrategy']}\", axis=1)\n",
        "\n",
        "display(df[['features_text', 'HiringDecision']].head())"
      ],
      "execution_count": 8,
      "outputs": [
        {
          "output_type": "display_data",
          "data": {
            "text/plain": [
              "                                       features_text  HiringDecision\n",
              "0  Gender: 1 EducationLevel: 2 ExperienceYears: 0...               1\n",
              "1  Gender: 1 EducationLevel: 4 ExperienceYears: 1...               1\n",
              "2  Gender: 0 EducationLevel: 2 ExperienceYears: 3...               0\n",
              "3  Gender: 1 EducationLevel: 2 ExperienceYears: 5...               0\n",
              "4  Gender: 0 EducationLevel: 1 ExperienceYears: 6...               0"
            ],
            "text/html": [
              "\n",
              "  <div id=\"df-779ce2b4-6afd-4b9e-8f3a-33d6688184b3\" class=\"colab-df-container\">\n",
              "    <div>\n",
              "<style scoped>\n",
              "    .dataframe tbody tr th:only-of-type {\n",
              "        vertical-align: middle;\n",
              "    }\n",
              "\n",
              "    .dataframe tbody tr th {\n",
              "        vertical-align: top;\n",
              "    }\n",
              "\n",
              "    .dataframe thead th {\n",
              "        text-align: right;\n",
              "    }\n",
              "</style>\n",
              "<table border=\"1\" class=\"dataframe\">\n",
              "  <thead>\n",
              "    <tr style=\"text-align: right;\">\n",
              "      <th></th>\n",
              "      <th>features_text</th>\n",
              "      <th>HiringDecision</th>\n",
              "    </tr>\n",
              "  </thead>\n",
              "  <tbody>\n",
              "    <tr>\n",
              "      <th>0</th>\n",
              "      <td>Gender: 1 EducationLevel: 2 ExperienceYears: 0...</td>\n",
              "      <td>1</td>\n",
              "    </tr>\n",
              "    <tr>\n",
              "      <th>1</th>\n",
              "      <td>Gender: 1 EducationLevel: 4 ExperienceYears: 1...</td>\n",
              "      <td>1</td>\n",
              "    </tr>\n",
              "    <tr>\n",
              "      <th>2</th>\n",
              "      <td>Gender: 0 EducationLevel: 2 ExperienceYears: 3...</td>\n",
              "      <td>0</td>\n",
              "    </tr>\n",
              "    <tr>\n",
              "      <th>3</th>\n",
              "      <td>Gender: 1 EducationLevel: 2 ExperienceYears: 5...</td>\n",
              "      <td>0</td>\n",
              "    </tr>\n",
              "    <tr>\n",
              "      <th>4</th>\n",
              "      <td>Gender: 0 EducationLevel: 1 ExperienceYears: 6...</td>\n",
              "      <td>0</td>\n",
              "    </tr>\n",
              "  </tbody>\n",
              "</table>\n",
              "</div>\n",
              "    <div class=\"colab-df-buttons\">\n",
              "\n",
              "  <div class=\"colab-df-container\">\n",
              "    <button class=\"colab-df-convert\" onclick=\"convertToInteractive('df-779ce2b4-6afd-4b9e-8f3a-33d6688184b3')\"\n",
              "            title=\"Convert this dataframe to an interactive table.\"\n",
              "            style=\"display:none;\">\n",
              "\n",
              "  <svg xmlns=\"http://www.w3.org/2000/svg\" height=\"24px\" viewBox=\"0 -960 960 960\">\n",
              "    <path d=\"M120-120v-720h720v720H120Zm60-500h600v-160H180v160Zm220 220h160v-160H400v160Zm0 220h160v-160H400v160ZM180-400h160v-160H180v160Zm440 0h160v-160H620v160ZM180-180h160v-160H180v160Zm440 0h160v-160H620v160Z\"/>\n",
              "  </svg>\n",
              "    </button>\n",
              "\n",
              "  <style>\n",
              "    .colab-df-container {\n",
              "      display:flex;\n",
              "      gap: 12px;\n",
              "    }\n",
              "\n",
              "    .colab-df-convert {\n",
              "      background-color: #E8F0FE;\n",
              "      border: none;\n",
              "      border-radius: 50%;\n",
              "      cursor: pointer;\n",
              "      display: none;\n",
              "      fill: #1967D2;\n",
              "      height: 32px;\n",
              "      padding: 0 0 0 0;\n",
              "      width: 32px;\n",
              "    }\n",
              "\n",
              "    .colab-df-convert:hover {\n",
              "      background-color: #E2EBFA;\n",
              "      box-shadow: 0px 1px 2px rgba(60, 64, 67, 0.3), 0px 1px 3px 1px rgba(60, 64, 67, 0.15);\n",
              "      fill: #174EA6;\n",
              "    }\n",
              "\n",
              "    .colab-df-buttons div {\n",
              "      margin-bottom: 4px;\n",
              "    }\n",
              "\n",
              "    [theme=dark] .colab-df-convert {\n",
              "      background-color: #3B4455;\n",
              "      fill: #D2E3FC;\n",
              "    }\n",
              "\n",
              "    [theme=dark] .colab-df-convert:hover {\n",
              "      background-color: #434B5C;\n",
              "      box-shadow: 0px 1px 3px 1px rgba(0, 0, 0, 0.15);\n",
              "      filter: drop-shadow(0px 1px 2px rgba(0, 0, 0, 0.3));\n",
              "      fill: #FFFFFF;\n",
              "    }\n",
              "  </style>\n",
              "\n",
              "    <script>\n",
              "      const buttonEl =\n",
              "        document.querySelector('#df-779ce2b4-6afd-4b9e-8f3a-33d6688184b3 button.colab-df-convert');\n",
              "      buttonEl.style.display =\n",
              "        google.colab.kernel.accessAllowed ? 'block' : 'none';\n",
              "\n",
              "      async function convertToInteractive(key) {\n",
              "        const element = document.querySelector('#df-779ce2b4-6afd-4b9e-8f3a-33d6688184b3');\n",
              "        const dataTable =\n",
              "          await google.colab.kernel.invokeFunction('convertToInteractive',\n",
              "                                                    [key], {});\n",
              "        if (!dataTable) return;\n",
              "\n",
              "        const docLinkHtml = 'Like what you see? Visit the ' +\n",
              "          '<a target=\"_blank\" href=https://colab.research.google.com/notebooks/data_table.ipynb>data table notebook</a>'\n",
              "          + ' to learn more about interactive tables.';\n",
              "        element.innerHTML = '';\n",
              "        dataTable['output_type'] = 'display_data';\n",
              "        await google.colab.output.renderOutput(dataTable, element);\n",
              "        const docLink = document.createElement('div');\n",
              "        docLink.innerHTML = docLinkHtml;\n",
              "        element.appendChild(docLink);\n",
              "      }\n",
              "    </script>\n",
              "  </div>\n",
              "\n",
              "\n",
              "    <div id=\"df-da1bec84-c8d8-4068-ac66-96320976ad66\">\n",
              "      <button class=\"colab-df-quickchart\" onclick=\"quickchart('df-da1bec84-c8d8-4068-ac66-96320976ad66')\"\n",
              "                title=\"Suggest charts\"\n",
              "                style=\"display:none;\">\n",
              "\n",
              "<svg xmlns=\"http://www.w3.org/2000/svg\" height=\"24px\"viewBox=\"0 0 24 24\"\n",
              "     width=\"24px\">\n",
              "    <g>\n",
              "        <path d=\"M19 3H5c-1.1 0-2 .9-2 2v14c0 1.1.9 2 2 2h14c1.1 0 2-.9 2-2V5c0-1.1-.9-2-2-2zM9 17H7v-7h2v7zm4 0h-2V7h2v10zm4 0h-2v-4h2v4z\"/>\n",
              "    </g>\n",
              "</svg>\n",
              "      </button>\n",
              "\n",
              "<style>\n",
              "  .colab-df-quickchart {\n",
              "      --bg-color: #E8F0FE;\n",
              "      --fill-color: #1967D2;\n",
              "      --hover-bg-color: #E2EBFA;\n",
              "      --hover-fill-color: #174EA6;\n",
              "      --disabled-fill-color: #AAA;\n",
              "      --disabled-bg-color: #DDD;\n",
              "  }\n",
              "\n",
              "  [theme=dark] .colab-df-quickchart {\n",
              "      --bg-color: #3B4455;\n",
              "      --fill-color: #D2E3FC;\n",
              "      --hover-bg-color: #434B5C;\n",
              "      --hover-fill-color: #FFFFFF;\n",
              "      --disabled-bg-color: #3B4455;\n",
              "      --disabled-fill-color: #666;\n",
              "  }\n",
              "\n",
              "  .colab-df-quickchart {\n",
              "    background-color: var(--bg-color);\n",
              "    border: none;\n",
              "    border-radius: 50%;\n",
              "    cursor: pointer;\n",
              "    display: none;\n",
              "    fill: var(--fill-color);\n",
              "    height: 32px;\n",
              "    padding: 0;\n",
              "    width: 32px;\n",
              "  }\n",
              "\n",
              "  .colab-df-quickchart:hover {\n",
              "    background-color: var(--hover-bg-color);\n",
              "    box-shadow: 0 1px 2px rgba(60, 64, 67, 0.3), 0 1px 3px 1px rgba(60, 64, 67, 0.15);\n",
              "    fill: var(--button-hover-fill-color);\n",
              "  }\n",
              "\n",
              "  .colab-df-quickchart-complete:disabled,\n",
              "  .colab-df-quickchart-complete:disabled:hover {\n",
              "    background-color: var(--disabled-bg-color);\n",
              "    fill: var(--disabled-fill-color);\n",
              "    box-shadow: none;\n",
              "  }\n",
              "\n",
              "  .colab-df-spinner {\n",
              "    border: 2px solid var(--fill-color);\n",
              "    border-color: transparent;\n",
              "    border-bottom-color: var(--fill-color);\n",
              "    animation:\n",
              "      spin 1s steps(1) infinite;\n",
              "  }\n",
              "\n",
              "  @keyframes spin {\n",
              "    0% {\n",
              "      border-color: transparent;\n",
              "      border-bottom-color: var(--fill-color);\n",
              "      border-left-color: var(--fill-color);\n",
              "    }\n",
              "    20% {\n",
              "      border-color: transparent;\n",
              "      border-left-color: var(--fill-color);\n",
              "      border-top-color: var(--fill-color);\n",
              "    }\n",
              "    30% {\n",
              "      border-color: transparent;\n",
              "      border-left-color: var(--fill-color);\n",
              "      border-top-color: var(--fill-color);\n",
              "      border-right-color: var(--fill-color);\n",
              "    }\n",
              "    40% {\n",
              "      border-color: transparent;\n",
              "      border-right-color: var(--fill-color);\n",
              "      border-top-color: var(--fill-color);\n",
              "    }\n",
              "    60% {\n",
              "      border-color: transparent;\n",
              "      border-right-color: var(--fill-color);\n",
              "    }\n",
              "    80% {\n",
              "      border-color: transparent;\n",
              "      border-right-color: var(--fill-color);\n",
              "      border-bottom-color: var(--fill-color);\n",
              "    }\n",
              "    90% {\n",
              "      border-color: transparent;\n",
              "      border-bottom-color: var(--fill-color);\n",
              "    }\n",
              "  }\n",
              "</style>\n",
              "\n",
              "      <script>\n",
              "        async function quickchart(key) {\n",
              "          const quickchartButtonEl =\n",
              "            document.querySelector('#' + key + ' button');\n",
              "          quickchartButtonEl.disabled = true;  // To prevent multiple clicks.\n",
              "          quickchartButtonEl.classList.add('colab-df-spinner');\n",
              "          try {\n",
              "            const charts = await google.colab.kernel.invokeFunction(\n",
              "                'suggestCharts', [key], {});\n",
              "          } catch (error) {\n",
              "            console.error('Error during call to suggestCharts:', error);\n",
              "          }\n",
              "          quickchartButtonEl.classList.remove('colab-df-spinner');\n",
              "          quickchartButtonEl.classList.add('colab-df-quickchart-complete');\n",
              "        }\n",
              "        (() => {\n",
              "          let quickchartButtonEl =\n",
              "            document.querySelector('#df-da1bec84-c8d8-4068-ac66-96320976ad66 button');\n",
              "          quickchartButtonEl.style.display =\n",
              "            google.colab.kernel.accessAllowed ? 'block' : 'none';\n",
              "        })();\n",
              "      </script>\n",
              "    </div>\n",
              "\n",
              "    </div>\n",
              "  </div>\n"
            ],
            "application/vnd.google.colaboratory.intrinsic+json": {
              "type": "dataframe",
              "summary": "{\n  \"name\": \"display(df[['features_text', 'HiringDecision']]\",\n  \"rows\": 5,\n  \"fields\": [\n    {\n      \"column\": \"features_text\",\n      \"properties\": {\n        \"dtype\": \"string\",\n        \"num_unique_values\": 5,\n        \"samples\": [\n          \"Gender: 1 EducationLevel: 4 ExperienceYears: 12 PreviousCompanies: 3 InterviewScore: 35 SkillScore: 68 PersonalityScore: 80 RecruitmentStrategy: 2\",\n          \"Gender: 0 EducationLevel: 1 ExperienceYears: 6 PreviousCompanies: 1 InterviewScore: 23 SkillScore: 52 PersonalityScore: 85 RecruitmentStrategy: 2\",\n          \"Gender: 0 EducationLevel: 2 ExperienceYears: 3 PreviousCompanies: 2 InterviewScore: 20 SkillScore: 67 PersonalityScore: 13 RecruitmentStrategy: 2\"\n        ],\n        \"semantic_type\": \"\",\n        \"description\": \"\"\n      }\n    },\n    {\n      \"column\": \"HiringDecision\",\n      \"properties\": {\n        \"dtype\": \"number\",\n        \"std\": 0,\n        \"min\": 0,\n        \"max\": 1,\n        \"num_unique_values\": 2,\n        \"samples\": [\n          0,\n          1\n        ],\n        \"semantic_type\": \"\",\n        \"description\": \"\"\n      }\n    }\n  ]\n}"
            }
          },
          "metadata": {}
        }
      ]
    },
    {
      "cell_type": "code",
      "source": [
        "from sklearn.model_selection import train_test_split\n",
        "\n",
        "# Split data into training and testing sets\n",
        "# We'll use the 'features_text' as our input and 'HiringDecision' as our target\n",
        "X = df['features_text']\n",
        "y = df['HiringDecision']\n",
        "\n",
        "X_train, X_test, y_train, y_test = train_test_split(X, y, test_size=0.2, random_state=42)\n",
        "\n",
        "print(\"Data split into training and testing sets.\")\n",
        "print(f\"Training features shape: {X_train.shape}\")\n",
        "print(f\"Testing features shape: {X_test.shape}\")\n",
        "print(f\"Training target shape: {y_train.shape}\")\n",
        "print(f\"Testing target shape: {y_test.shape}\")"
      ],
      "metadata": {
        "colab": {
          "base_uri": "https://localhost:8080/"
        },
        "id": "ywDS05ZV-HZF",
        "outputId": "570b0298-842e-4053-9577-f004091cb24f"
      },
      "execution_count": 17,
      "outputs": [
        {
          "output_type": "stream",
          "name": "stdout",
          "text": [
            "Data split into training and testing sets.\n",
            "Training features shape: (1200,)\n",
            "Testing features shape: (300,)\n",
            "Training target shape: (1200,)\n",
            "Testing target shape: (300,)\n"
          ]
        }
      ]
    },
    {
      "cell_type": "markdown",
      "source": [
        "#2. Train a BERT Classifier"
      ],
      "metadata": {
        "id": "e_Du0jcPU-GW"
      }
    },
    {
      "cell_type": "code",
      "source": [
        "!pip install transformers tensorflow"
      ],
      "metadata": {
        "colab": {
          "base_uri": "https://localhost:8080/"
        },
        "id": "WsMHdnPG_maq",
        "outputId": "bca8e597-40ff-4446-901a-0e4a176b989f"
      },
      "execution_count": 13,
      "outputs": [
        {
          "output_type": "stream",
          "name": "stdout",
          "text": [
            "Requirement already satisfied: transformers in /usr/local/lib/python3.11/dist-packages (4.53.0)\n",
            "Requirement already satisfied: tensorflow in /usr/local/lib/python3.11/dist-packages (2.18.0)\n",
            "Requirement already satisfied: filelock in /usr/local/lib/python3.11/dist-packages (from transformers) (3.18.0)\n",
            "Requirement already satisfied: huggingface-hub<1.0,>=0.30.0 in /usr/local/lib/python3.11/dist-packages (from transformers) (0.33.1)\n",
            "Requirement already satisfied: numpy>=1.17 in /usr/local/lib/python3.11/dist-packages (from transformers) (2.0.2)\n",
            "Requirement already satisfied: packaging>=20.0 in /usr/local/lib/python3.11/dist-packages (from transformers) (24.2)\n",
            "Requirement already satisfied: pyyaml>=5.1 in /usr/local/lib/python3.11/dist-packages (from transformers) (6.0.2)\n",
            "Requirement already satisfied: regex!=2019.12.17 in /usr/local/lib/python3.11/dist-packages (from transformers) (2024.11.6)\n",
            "Requirement already satisfied: requests in /usr/local/lib/python3.11/dist-packages (from transformers) (2.32.3)\n",
            "Requirement already satisfied: tokenizers<0.22,>=0.21 in /usr/local/lib/python3.11/dist-packages (from transformers) (0.21.2)\n",
            "Requirement already satisfied: safetensors>=0.4.3 in /usr/local/lib/python3.11/dist-packages (from transformers) (0.5.3)\n",
            "Requirement already satisfied: tqdm>=4.27 in /usr/local/lib/python3.11/dist-packages (from transformers) (4.67.1)\n",
            "Requirement already satisfied: absl-py>=1.0.0 in /usr/local/lib/python3.11/dist-packages (from tensorflow) (1.4.0)\n",
            "Requirement already satisfied: astunparse>=1.6.0 in /usr/local/lib/python3.11/dist-packages (from tensorflow) (1.6.3)\n",
            "Requirement already satisfied: flatbuffers>=24.3.25 in /usr/local/lib/python3.11/dist-packages (from tensorflow) (25.2.10)\n",
            "Requirement already satisfied: gast!=0.5.0,!=0.5.1,!=0.5.2,>=0.2.1 in /usr/local/lib/python3.11/dist-packages (from tensorflow) (0.6.0)\n",
            "Requirement already satisfied: google-pasta>=0.1.1 in /usr/local/lib/python3.11/dist-packages (from tensorflow) (0.2.0)\n",
            "Requirement already satisfied: libclang>=13.0.0 in /usr/local/lib/python3.11/dist-packages (from tensorflow) (18.1.1)\n",
            "Requirement already satisfied: opt-einsum>=2.3.2 in /usr/local/lib/python3.11/dist-packages (from tensorflow) (3.4.0)\n",
            "Requirement already satisfied: protobuf!=4.21.0,!=4.21.1,!=4.21.2,!=4.21.3,!=4.21.4,!=4.21.5,<6.0.0dev,>=3.20.3 in /usr/local/lib/python3.11/dist-packages (from tensorflow) (5.29.5)\n",
            "Requirement already satisfied: setuptools in /usr/local/lib/python3.11/dist-packages (from tensorflow) (75.2.0)\n",
            "Requirement already satisfied: six>=1.12.0 in /usr/local/lib/python3.11/dist-packages (from tensorflow) (1.17.0)\n",
            "Requirement already satisfied: termcolor>=1.1.0 in /usr/local/lib/python3.11/dist-packages (from tensorflow) (3.1.0)\n",
            "Requirement already satisfied: typing-extensions>=3.6.6 in /usr/local/lib/python3.11/dist-packages (from tensorflow) (4.14.0)\n",
            "Requirement already satisfied: wrapt>=1.11.0 in /usr/local/lib/python3.11/dist-packages (from tensorflow) (1.17.2)\n",
            "Requirement already satisfied: grpcio<2.0,>=1.24.3 in /usr/local/lib/python3.11/dist-packages (from tensorflow) (1.73.1)\n",
            "Requirement already satisfied: tensorboard<2.19,>=2.18 in /usr/local/lib/python3.11/dist-packages (from tensorflow) (2.18.0)\n",
            "Requirement already satisfied: keras>=3.5.0 in /usr/local/lib/python3.11/dist-packages (from tensorflow) (3.8.0)\n",
            "Requirement already satisfied: h5py>=3.11.0 in /usr/local/lib/python3.11/dist-packages (from tensorflow) (3.14.0)\n",
            "Requirement already satisfied: ml-dtypes<0.5.0,>=0.4.0 in /usr/local/lib/python3.11/dist-packages (from tensorflow) (0.4.1)\n",
            "Requirement already satisfied: tensorflow-io-gcs-filesystem>=0.23.1 in /usr/local/lib/python3.11/dist-packages (from tensorflow) (0.37.1)\n",
            "Requirement already satisfied: wheel<1.0,>=0.23.0 in /usr/local/lib/python3.11/dist-packages (from astunparse>=1.6.0->tensorflow) (0.45.1)\n",
            "Requirement already satisfied: fsspec>=2023.5.0 in /usr/local/lib/python3.11/dist-packages (from huggingface-hub<1.0,>=0.30.0->transformers) (2025.3.2)\n",
            "Requirement already satisfied: hf-xet<2.0.0,>=1.1.2 in /usr/local/lib/python3.11/dist-packages (from huggingface-hub<1.0,>=0.30.0->transformers) (1.1.5)\n",
            "Requirement already satisfied: rich in /usr/local/lib/python3.11/dist-packages (from keras>=3.5.0->tensorflow) (13.9.4)\n",
            "Requirement already satisfied: namex in /usr/local/lib/python3.11/dist-packages (from keras>=3.5.0->tensorflow) (0.1.0)\n",
            "Requirement already satisfied: optree in /usr/local/lib/python3.11/dist-packages (from keras>=3.5.0->tensorflow) (0.16.0)\n",
            "Requirement already satisfied: charset-normalizer<4,>=2 in /usr/local/lib/python3.11/dist-packages (from requests->transformers) (3.4.2)\n",
            "Requirement already satisfied: idna<4,>=2.5 in /usr/local/lib/python3.11/dist-packages (from requests->transformers) (3.10)\n",
            "Requirement already satisfied: urllib3<3,>=1.21.1 in /usr/local/lib/python3.11/dist-packages (from requests->transformers) (2.4.0)\n",
            "Requirement already satisfied: certifi>=2017.4.17 in /usr/local/lib/python3.11/dist-packages (from requests->transformers) (2025.6.15)\n",
            "Requirement already satisfied: markdown>=2.6.8 in /usr/local/lib/python3.11/dist-packages (from tensorboard<2.19,>=2.18->tensorflow) (3.8.2)\n",
            "Requirement already satisfied: tensorboard-data-server<0.8.0,>=0.7.0 in /usr/local/lib/python3.11/dist-packages (from tensorboard<2.19,>=2.18->tensorflow) (0.7.2)\n",
            "Requirement already satisfied: werkzeug>=1.0.1 in /usr/local/lib/python3.11/dist-packages (from tensorboard<2.19,>=2.18->tensorflow) (3.1.3)\n",
            "Requirement already satisfied: MarkupSafe>=2.1.1 in /usr/local/lib/python3.11/dist-packages (from werkzeug>=1.0.1->tensorboard<2.19,>=2.18->tensorflow) (3.0.2)\n",
            "Requirement already satisfied: markdown-it-py>=2.2.0 in /usr/local/lib/python3.11/dist-packages (from rich->keras>=3.5.0->tensorflow) (3.0.0)\n",
            "Requirement already satisfied: pygments<3.0.0,>=2.13.0 in /usr/local/lib/python3.11/dist-packages (from rich->keras>=3.5.0->tensorflow) (2.19.2)\n",
            "Requirement already satisfied: mdurl~=0.1 in /usr/local/lib/python3.11/dist-packages (from markdown-it-py>=2.2.0->rich->keras>=3.5.0->tensorflow) (0.1.2)\n"
          ]
        }
      ]
    },
    {
      "cell_type": "code",
      "source": [
        "import tensorflow as tf\n",
        "from transformers import TFBertForSequenceClassification, BertTokenizer\n",
        "from sklearn.model_selection import train_test_split\n",
        "\n",
        "# Load the BERT tokenizer\n",
        "tokenizer = BertTokenizer.from_pretrained('bert-base-uncased')\n",
        "\n",
        "# Prepare the data for BERT\n",
        "# Tokenize the 'features_text' and convert labels to tensors\n",
        "X_train_encoded = tokenizer(list(X_train.values), truncation=True, padding=True, return_tensors='tf')\n",
        "X_test_encoded = tokenizer(list(X_test.values), truncation=True, padding=True, return_tensors='tf')\n",
        "\n",
        "y_train_tensor = tf.constant(y_train.values)\n",
        "y_test_tensor = tf.constant(y_test.values)\n",
        "\n",
        "# Load a pre-trained BERT model for sequence classification\n",
        "# We need 2 output labels for binary classification (Hire vs. Not Hire)\n",
        "bert_model = TFBertForSequenceClassification.from_pretrained('bert-base-uncased', num_labels=2)\n",
        "\n",
        "# Compile the model\n",
        "optimizer = tf.keras.optimizers.Adam(learning_rate=5e-5)\n",
        "loss = tf.keras.losses.SparseCategoricalCrossentropy(from_logits=True)\n",
        "metric = tf.keras.metrics.SparseCategoricalAccuracy('accuracy')\n",
        "\n",
        "bert_model.compile(optimizer=optimizer, loss=loss, metrics=[metric])\n",
        "\n",
        "# Train the model\n",
        "history = bert_model.fit(\n",
        "    {'input_ids': X_train_encoded['input_ids'], 'attention_mask': X_train_encoded['attention_mask']},\n",
        "    y_train_tensor,\n",
        "    epochs=3, # Start with a small number of epochs\n",
        "    batch_size=8, # Adjust batch size based on your GPU memory\n",
        "    validation_data=(\n",
        "        {'input_ids': X_test_encoded['input_ids'], 'attention_mask': X_test_encoded['attention_mask']},\n",
        "        y_test_tensor\n",
        "    )\n",
        ")\n",
        "\n",
        "# Evaluate the model\n",
        "loss, accuracy = bert_model.evaluate(\n",
        "    {'input_ids': X_test_encoded['input_ids'], 'attention_mask': X_test_encoded['attention_mask']},\n",
        "    y_test_tensor\n",
        ")\n",
        "\n",
        "print(f\"BERT Model Accuracy: {accuracy}\")"
      ],
      "metadata": {
        "colab": {
          "base_uri": "https://localhost:8080/"
        },
        "id": "8WQsZhPKDAHY",
        "outputId": "b6058888-e1bb-4054-8505-9951275a88ed"
      },
      "execution_count": 14,
      "outputs": [
        {
          "output_type": "stream",
          "name": "stderr",
          "text": [
            "All PyTorch model weights were used when initializing TFBertForSequenceClassification.\n",
            "\n",
            "Some weights or buffers of the TF 2.0 model TFBertForSequenceClassification were not initialized from the PyTorch model and are newly initialized: ['classifier.weight', 'classifier.bias']\n",
            "You should probably TRAIN this model on a down-stream task to be able to use it for predictions and inference.\n"
          ]
        },
        {
          "output_type": "stream",
          "name": "stdout",
          "text": [
            "Epoch 1/3\n",
            "150/150 [==============================] - 802s 5s/step - loss: 0.5187 - accuracy: 0.7583 - val_loss: 0.4467 - val_accuracy: 0.8400\n",
            "Epoch 2/3\n",
            "150/150 [==============================] - 815s 5s/step - loss: 0.4795 - accuracy: 0.8075 - val_loss: 0.4114 - val_accuracy: 0.8400\n",
            "Epoch 3/3\n",
            "150/150 [==============================] - 736s 5s/step - loss: 0.4792 - accuracy: 0.8100 - val_loss: 0.4183 - val_accuracy: 0.8400\n",
            "10/10 [==============================] - 39s 4s/step - loss: 0.4183 - accuracy: 0.8400\n",
            "BERT Model Accuracy: 0.8399999737739563\n"
          ]
        }
      ]
    },
    {
      "cell_type": "code",
      "source": [
        "# The BERT model outputs logits, so we need to apply argmax to get the predicted class\n",
        "y_pred_logits = bert_model.predict(\n",
        "    {'input_ids': X_test_encoded['input_ids'], 'attention_mask': X_test_encoded['attention_mask']}\n",
        ")[0]\n",
        "y_pred = tf.argmax(y_pred_logits, axis=1).numpy()"
      ],
      "metadata": {
        "colab": {
          "base_uri": "https://localhost:8080/"
        },
        "id": "NlwO-yKVPNgf",
        "outputId": "1242f90c-8ce5-4b2f-9fea-86ffa1bcae8b"
      },
      "execution_count": 19,
      "outputs": [
        {
          "output_type": "stream",
          "name": "stdout",
          "text": [
            "10/10 [==============================] - 43s 4s/step\n"
          ]
        }
      ]
    },
    {
      "cell_type": "code",
      "source": [
        "save_directory = \"/content/drive/MyDrive/Nile\"\n",
        "\n",
        "# Save the model\n",
        "bert_model.save_pretrained(save_directory)\n",
        "\n",
        "print(f\"BERT model saved to: {save_directory}\")"
      ],
      "metadata": {
        "colab": {
          "base_uri": "https://localhost:8080/"
        },
        "id": "XqqnnDbEDhrg",
        "outputId": "1a136d91-6c1d-4df7-940d-05e70fe4a710"
      },
      "execution_count": 16,
      "outputs": [
        {
          "output_type": "stream",
          "name": "stdout",
          "text": [
            "BERT model saved to: /content/drive/MyDrive/Nile\n"
          ]
        }
      ]
    },
    {
      "cell_type": "markdown",
      "source": [
        "#3. Bias Detection & Measurement"
      ],
      "metadata": {
        "id": "TXGqs1jRVIaM"
      }
    },
    {
      "cell_type": "markdown",
      "source": [
        "## Calculate Fairness Metrics"
      ],
      "metadata": {
        "id": "8i4KRsl1QN89"
      }
    },
    {
      "cell_type": "code",
      "source": [
        "from sklearn.metrics import confusion_matrix\n",
        "import numpy as np\n",
        "\n",
        "# Assuming 'Gender' is the sensitive attribute (0 for one group, 1 for the other)\n",
        "# We need to access the 'Gender' information for the test set\n",
        "# Since we split X and y, we need to get the corresponding 'Gender' values for the test set\n",
        "# We can get the indices of the test set and use them to select rows from the original df\n",
        "test_indices = X_test.index\n",
        "gender_test = df.loc[test_indices, 'Gender']\n",
        "\n",
        "# Separate predictions and true labels based on gender\n",
        "y_test_group_0 = y_test[gender_test == 0]\n",
        "y_pred_group_0 = y_pred[gender_test == 0]\n",
        "\n",
        "y_test_group_1 = y_test[gender_test == 1]\n",
        "y_pred_group_1 = y_pred[gender_test == 1]\n",
        "\n",
        "classes = [0, 1]\n",
        "tn_0, fp_0, fn_0, tp_0 = confusion_matrix(y_test_group_0, y_pred_group_0, labels=classes).ravel()\n",
        "tn_1, fp_1, fn_1, tp_1 = confusion_matrix(y_test_group_1, y_pred_group_1, labels=classes).ravel()"
      ],
      "metadata": {
        "id": "iWOL9BGHP_rq"
      },
      "execution_count": 36,
      "outputs": []
    },
    {
      "cell_type": "markdown",
      "source": [
        "## 1. Demographic Parity\n"
      ],
      "metadata": {
        "id": "bEiM5RaEQRI9"
      }
    },
    {
      "cell_type": "code",
      "source": [
        "total_group_0 = len(y_test_group_0)\n",
        "total_group_1 = len(y_test_group_1)\n",
        "\n",
        "prob_pred_1_group_0 = (tp_0 + fp_0) / total_group_0 if total_group_0 > 0 else 0\n",
        "prob_pred_1_group_1 = (tp_1 + fp_1) / total_group_1 if total_group_1 > 0 else 0\n",
        "\n",
        "demographic_parity = prob_pred_1_group_0 - prob_pred_1_group_1\n",
        "\n",
        "print(f\"Demographic Parity: {demographic_parity}\")\n"
      ],
      "metadata": {
        "colab": {
          "base_uri": "https://localhost:8080/"
        },
        "id": "E7E-QIdXQNtN",
        "outputId": "dddbc73a-2b63-489d-a13e-2667151de67b"
      },
      "execution_count": 21,
      "outputs": [
        {
          "output_type": "stream",
          "name": "stdout",
          "text": [
            "Demographic Parity: 0.051920341394025626\n"
          ]
        }
      ]
    },
    {
      "cell_type": "markdown",
      "source": [
        "## 2. Equal Opportunity Difference"
      ],
      "metadata": {
        "id": "grsFuElLQVcv"
      }
    },
    {
      "cell_type": "code",
      "source": [
        "tpr_group_0 = tp_0 / (tp_0 + fn_0) if (tp_0 + fn_0) > 0 else 0\n",
        "tpr_group_1 = tp_1 / (tp_1 + fn_1) if (tp_1 + fn_1) > 0 else 0\n",
        "\n",
        "equal_opportunity_difference = tpr_group_0 - tpr_group_1\n",
        "\n",
        "print(f\"Equal Opportunity Difference: {equal_opportunity_difference}\")"
      ],
      "metadata": {
        "colab": {
          "base_uri": "https://localhost:8080/"
        },
        "id": "i07L7RmPQWZn",
        "outputId": "35eb23c7-596b-4373-fbe0-e84ca4e10c3c"
      },
      "execution_count": 22,
      "outputs": [
        {
          "output_type": "stream",
          "name": "stdout",
          "text": [
            "Equal Opportunity Difference: -0.018477043673012394\n"
          ]
        }
      ]
    },
    {
      "cell_type": "markdown",
      "source": [
        "## 3. Average Odds Difference\n"
      ],
      "metadata": {
        "id": "snAEjVzTQbdV"
      }
    },
    {
      "cell_type": "code",
      "source": [
        "fpr_group_0 = fp_0 / (fp_0 + tn_0) if (fp_0 + tn_0) > 0 else 0\n",
        "fpr_group_1 = fp_1 / (fp_1 + tn_1) if (fp_1 + tn_1) > 0 else 0\n",
        "\n",
        "average_odds_difference = 0.5 * ((fpr_group_0 - fpr_group_1) + (tpr_group_0 - tpr_group_1))\n",
        "\n",
        "print(f\"Average Odds Difference: {average_odds_difference}\")"
      ],
      "metadata": {
        "colab": {
          "base_uri": "https://localhost:8080/"
        },
        "id": "88cXQMppQcFR",
        "outputId": "629fa718-5d70-4cdf-cdb7-f0f7ae60daaa"
      },
      "execution_count": 23,
      "outputs": [
        {
          "output_type": "stream",
          "name": "stdout",
          "text": [
            "Average Odds Difference: 0.007644595046610685\n"
          ]
        }
      ]
    },
    {
      "cell_type": "markdown",
      "source": [
        "## Plot disparities in prediction rates across gender groups."
      ],
      "metadata": {
        "id": "gq5I4g3MQvXF"
      }
    },
    {
      "cell_type": "code",
      "source": [
        "import matplotlib.pyplot as plt\n",
        "import seaborn as sns\n",
        "\n",
        "# Calculate prediction rates for each gender group\n",
        "pred_rate_group_0 = prob_pred_1_group_0\n",
        "pred_rate_group_1 = prob_pred_1_group_1\n",
        "\n",
        "group_labels = ['Gender 0', 'Gender 1']\n",
        "prediction_rates = [pred_rate_group_0, pred_rate_group_1]\n",
        "\n",
        "plt.figure(figsize=(6, 4))\n",
        "sns.barplot(x=group_labels, y=prediction_rates)\n",
        "plt.ylabel('Proportion of Predicted Hire (1)')\n",
        "plt.title('Prediction Rates Across Gender Groups')\n",
        "plt.ylim(0, 1) # Set y-axis limits to be between 0 and 1\n",
        "plt.show()"
      ],
      "metadata": {
        "colab": {
          "base_uri": "https://localhost:8080/",
          "height": 391
        },
        "id": "6X4FbRirQggU",
        "outputId": "d0185ba8-3889-4a1a-eeb3-0d55cda79a65"
      },
      "execution_count": 24,
      "outputs": [
        {
          "output_type": "display_data",
          "data": {
            "text/plain": [
              "<Figure size 600x400 with 1 Axes>"
            ],
            "image/png": "[encoded data removed]"
          },
          "metadata": {}
        }
      ]
    },
    {
      "cell_type": "markdown",
      "source": [
        "#Explainability & Bias Attribution"
      ],
      "metadata": {
        "id": "bQkGZieQRFT3"
      }
    },
    {
      "cell_type": "code",
      "source": [
        "!pip install shap"
      ],
      "metadata": {
        "colab": {
          "base_uri": "https://localhost:8080/"
        },
        "id": "qE9ONCUrRioZ",
        "outputId": "423c24ff-4c77-4fca-d68f-5eefe8ec17d4"
      },
      "execution_count": 25,
      "outputs": [
        {
          "output_type": "stream",
          "name": "stdout",
          "text": [
            "Requirement already satisfied: shap in /usr/local/lib/python3.11/dist-packages (0.48.0)\n",
            "Requirement already satisfied: numpy in /usr/local/lib/python3.11/dist-packages (from shap) (2.0.2)\n",
            "Requirement already satisfied: scipy in /usr/local/lib/python3.11/dist-packages (from shap) (1.15.3)\n",
            "Requirement already satisfied: scikit-learn in /usr/local/lib/python3.11/dist-packages (from shap) (1.6.1)\n",
            "Requirement already satisfied: pandas in /usr/local/lib/python3.11/dist-packages (from shap) (2.2.2)\n",
            "Requirement already satisfied: tqdm>=4.27.0 in /usr/local/lib/python3.11/dist-packages (from shap) (4.67.1)\n",
            "Requirement already satisfied: packaging>20.9 in /usr/local/lib/python3.11/dist-packages (from shap) (24.2)\n",
            "Requirement already satisfied: slicer==0.0.8 in /usr/local/lib/python3.11/dist-packages (from shap) (0.0.8)\n",
            "Requirement already satisfied: numba>=0.54 in /usr/local/lib/python3.11/dist-packages (from shap) (0.60.0)\n",
            "Requirement already satisfied: cloudpickle in /usr/local/lib/python3.11/dist-packages (from shap) (3.1.1)\n",
            "Requirement already satisfied: typing-extensions in /usr/local/lib/python3.11/dist-packages (from shap) (4.14.0)\n",
            "Requirement already satisfied: llvmlite<0.44,>=0.43.0dev0 in /usr/local/lib/python3.11/dist-packages (from numba>=0.54->shap) (0.43.0)\n",
            "Requirement already satisfied: python-dateutil>=2.8.2 in /usr/local/lib/python3.11/dist-packages (from pandas->shap) (2.9.0.post0)\n",
            "Requirement already satisfied: pytz>=2020.1 in /usr/local/lib/python3.11/dist-packages (from pandas->shap) (2025.2)\n",
            "Requirement already satisfied: tzdata>=2022.7 in /usr/local/lib/python3.11/dist-packages (from pandas->shap) (2025.2)\n",
            "Requirement already satisfied: joblib>=1.2.0 in /usr/local/lib/python3.11/dist-packages (from scikit-learn->shap) (1.5.1)\n",
            "Requirement already satisfied: threadpoolctl>=3.1.0 in /usr/local/lib/python3.11/dist-packages (from scikit-learn->shap) (3.6.0)\n",
            "Requirement already satisfied: six>=1.5 in /usr/local/lib/python3.11/dist-packages (from python-dateutil>=2.8.2->pandas->shap) (1.17.0)\n"
          ]
        }
      ]
    },
    {
      "cell_type": "code",
      "source": [
        "import shap\n",
        "import pandas as pd\n",
        "import numpy as np # Import numpy\n",
        "\n",
        "# Select a few instances from the test set to explain (3 Hire, 2 No-Hire)\n",
        "# We need the original text features (X_test) and the true labels (y_test)\n",
        "# and the model's predictions (y_pred) to select instances\n",
        "explained_indices = []\n",
        "hire_count = 0\n",
        "nohire_count = 0\n",
        "\n",
        "# Iterate through the test set to find instances to explain\n",
        "for i in range(len(X_test)):\n",
        "    # Get the true label and predicted label for the current instance\n",
        "    true_label = y_test.iloc[i]\n",
        "    predicted_label = y_pred[i] # y_pred is a numpy array from the previous step\n",
        "\n",
        "    # Select 3 Hire predictions\n",
        "    if predicted_label == 1 and hire_count < 3:\n",
        "        explained_indices.append(X_test.index[i])\n",
        "        hire_count += 1\n",
        "    # Select 2 No-Hire predictions\n",
        "    elif predicted_label == 0 and nohire_count < 2:\n",
        "        explained_indices.append(X_test.index[i])\n",
        "        nohire_count += 1\n",
        "\n",
        "    if hire_count == 3 and nohire_count == 2:\n",
        "        break\n",
        "\n",
        "X_to_explain = X_test.loc[explained_indices]\n",
        "y_to_explain = y_test.loc[explained_indices]\n",
        "y_pred_to_explain = y_pred[X_test.index.isin(explained_indices)] # Select corresponding predictions\n",
        "\n",
        "\n",
        "print(f\"Selected {len(explained_indices)} instances for explanation:\")\n",
        "for i, index in enumerate(explained_indices):\n",
        "    print(f\"Instance {i+1} (Index {index}): True Label = {y_to_explain.loc[index]}, Predicted Label = {y_pred_to_explain[i]}\")\n",
        "    print(f\"Text Features: {X_to_explain.loc[index]}\")\n",
        "    print(\"-\" * 20)\n",
        "\n",
        "def bert_predict_proba(texts):\n",
        "    if isinstance(texts, np.ndarray):\n",
        "        texts = [str(t) for t in texts.flatten()] # Flatten and convert to list of strings\n",
        "    elif isinstance(texts, pd.DataFrame):\n",
        "        texts = texts.iloc[:, 0].tolist() # Assuming the text is in the first column of the DataFrame\n",
        "    elif isinstance(texts, pd.Series):\n",
        "        texts = texts.tolist()\n",
        "    elif not isinstance(texts, list):\n",
        "        texts = [texts] # Handle single string input\n",
        "\n",
        "    # Tokenize the input texts\n",
        "    encoded_input = tokenizer(list(texts), truncation=True, padding=True, return_tensors='tf')\n",
        "    # Get model predictions (logits)\n",
        "    logits = bert_model.predict(\n",
        "        {'input_ids': encoded_input['input_ids'], 'attention_mask': encoded_input['attention_mask']}\n",
        "    )[0]\n",
        "    # Apply softmax to get probabilities\n",
        "    probabilities = tf.nn.softmax(logits, axis=-1).numpy()\n",
        "    return probabilities\n",
        "\n",
        "background_data = X_train.sample(min(100, len(X_train)), random_state=42).to_numpy().reshape(-1, 1)\n",
        "explainer = shap.KernelExplainer(bert_predict_proba, background_data)\n",
        "\n",
        "print(\"Calculating SHAP values...\")\n",
        "shap_values = explainer.shap_values(X_to_explain.to_numpy().reshape(-1, 1))\n",
        "\n",
        "print(\"SHAP values calculation complete.\")"
      ],
      "metadata": {
        "colab": {
          "base_uri": "https://localhost:8080/",
          "height": 485,
          "referenced_widgets": [
            "cc238801104b453a8149e2e1440d155a",
            "42bb9801bbe446399e4711fefe666d3e",
            "cbbab14ecff048479782dbf3926f4162",
            "eba4bed9f52a489d91839db7bb8a05d5",
            "ca02d3f31d744f818efca1d8358da06f",
            "ec5e51923d384812a174bcba22700926",
            "186a02544ae24f0cbc527b3868e155d2",
            "100b45ab7b504be5b75cf25425e711f5",
            "492241ed9b1843768ba2133284659548",
            "df1bf9d2b1a44855981cdffdd43037f3",
            "ee682dbdd648432c96945bd0c2940abe"
          ]
        },
        "id": "GrUPBXLFRlYx",
        "outputId": "b1e9264f-91a2-42d4-f8d0-793aefa44dfd"
      },
      "execution_count": 30,
      "outputs": [
        {
          "output_type": "stream",
          "name": "stdout",
          "text": [
            "Selected 5 instances for explanation:\n",
            "Instance 1 (Index 1116): True Label = 0, Predicted Label = 0\n",
            "Text Features: Gender: 0 EducationLevel: 2 ExperienceYears: 15 PreviousCompanies: 5 InterviewScore: 67 SkillScore: 84 PersonalityScore: 42 RecruitmentStrategy: 2\n",
            "--------------------\n",
            "Instance 2 (Index 1368): True Label = 0, Predicted Label = 0\n",
            "Text Features: Gender: 1 EducationLevel: 2 ExperienceYears: 9 PreviousCompanies: 5 InterviewScore: 73 SkillScore: 44 PersonalityScore: 87 RecruitmentStrategy: 3\n",
            "--------------------\n",
            "Instance 3 (Index 259): True Label = 0, Predicted Label = 1\n",
            "Text Features: Gender: 0 EducationLevel: 2 ExperienceYears: 4 PreviousCompanies: 4 InterviewScore: 17 SkillScore: 18 PersonalityScore: 24 RecruitmentStrategy: 1\n",
            "--------------------\n",
            "Instance 4 (Index 1382): True Label = 1, Predicted Label = 1\n",
            "Text Features: Gender: 0 EducationLevel: 1 ExperienceYears: 7 PreviousCompanies: 5 InterviewScore: 74 SkillScore: 73 PersonalityScore: 20 RecruitmentStrategy: 1\n",
            "--------------------\n",
            "Instance 5 (Index 70): True Label = 1, Predicted Label = 1\n",
            "Text Features: Gender: 1 EducationLevel: 3 ExperienceYears: 3 PreviousCompanies: 2 InterviewScore: 82 SkillScore: 96 PersonalityScore: 0 RecruitmentStrategy: 1\n",
            "--------------------\n",
            "4/4 [==============================] - 20s 4s/step\n",
            "Calculating SHAP values...\n"
          ]
        },
        {
          "output_type": "display_data",
          "data": {
            "text/plain": [
              "  0%|          | 0/5 [00:00<?, ?it/s]"
            ],
            "application/vnd.jupyter.widget-view+json": {
              "version_major": 2,
              "version_minor": 0,
              "model_id": "cc238801104b453a8149e2e1440d155a"
            }
          },
          "metadata": {}
        },
        {
          "output_type": "stream",
          "name": "stdout",
          "text": [
            "1/1 [==============================] - 1s 998ms/step\n",
            "1/1 [==============================] - 1s 571ms/step\n",
            "1/1 [==============================] - 1s 518ms/step\n",
            "1/1 [==============================] - 1s 567ms/step\n",
            "1/1 [==============================] - 0s 471ms/step\n",
            "SHAP values calculation complete.\n"
          ]
        }
      ]
    },
    {
      "cell_type": "code",
      "source": [
        "# Create a list of the text features for plotting\n",
        "X_to_explain_list = X_to_explain.tolist()\n",
        "shap.summary_plot(shap_values[1][:, :-1], features=X_to_explain.to_numpy().reshape(-1, 1), feature_names=['Features Text'], plot_type=\"bar\")"
      ],
      "metadata": {
        "colab": {
          "base_uri": "https://localhost:8080/",
          "height": 197
        },
        "id": "tXA1b12eTkiU",
        "outputId": "343531e1-3fc5-4ae8-bac4-1323ca0cd11a"
      },
      "execution_count": 34,
      "outputs": [
        {
          "output_type": "display_data",
          "data": {
            "text/plain": [
              "<Figure size 800x190 with 1 Axes>"
            ],
            "image/png": "[encoded data removed]"
          },
          "metadata": {}
        }
      ]
    },
    {
      "cell_type": "markdown",
      "source": [
        "#5. Bias Mitigation:"
      ],
      "metadata": {
        "id": "vTDmGWB6T4Je"
      }
    },
    {
      "cell_type": "code",
      "source": [
        "# Calculate sample weights for reweighing\n",
        "# We need to access the original 'Gender' information for the training set\n",
        "train_indices = X_train.index\n",
        "gender_train = df.loc[train_indices, 'Gender']\n",
        "\n",
        "train_groups = pd.DataFrame({'Gender': gender_train, 'HiringDecision': y_train})\n",
        "group_proportions = train_groups.value_counts(normalize=True).sort_index()\n",
        "group_weights = 1 / (group_proportions + 1e-6)\n",
        "\n",
        "group_weights = group_weights / group_weights.sum() * len(train_groups)\n",
        "sample_weights = train_groups.apply(lambda row: group_weights.get((row['Gender'], row['HiringDecision']), 0), axis=1)\n",
        "\n",
        "print(\"Sample weights calculated for reweighing.\")\n",
        "display(sample_weights.head())"
      ],
      "metadata": {
        "colab": {
          "base_uri": "https://localhost:8080/",
          "height": 258
        },
        "id": "ipOeTy-_TdUR",
        "outputId": "9a4da312-97a0-4d09-9b39-3addc2a417ae"
      },
      "execution_count": 35,
      "outputs": [
        {
          "output_type": "stream",
          "name": "stdout",
          "text": [
            "Sample weights calculated for reweighing.\n"
          ]
        },
        {
          "output_type": "display_data",
          "data": {
            "text/plain": [
              "382     194.713735\n",
              "538     194.713735\n",
              "1493    194.713735\n",
              "1112    409.922293\n",
              "324     194.713735\n",
              "dtype: float64"
            ],
            "text/html": [
              "<div>\n",
              "<style scoped>\n",
              "    .dataframe tbody tr th:only-of-type {\n",
              "        vertical-align: middle;\n",
              "    }\n",
              "\n",
              "    .dataframe tbody tr th {\n",
              "        vertical-align: top;\n",
              "    }\n",
              "\n",
              "    .dataframe thead th {\n",
              "        text-align: right;\n",
              "    }\n",
              "</style>\n",
              "<table border=\"1\" class=\"dataframe\">\n",
              "  <thead>\n",
              "    <tr style=\"text-align: right;\">\n",
              "      <th></th>\n",
              "      <th>0</th>\n",
              "    </tr>\n",
              "  </thead>\n",
              "  <tbody>\n",
              "    <tr>\n",
              "      <th>382</th>\n",
              "      <td>194.713735</td>\n",
              "    </tr>\n",
              "    <tr>\n",
              "      <th>538</th>\n",
              "      <td>194.713735</td>\n",
              "    </tr>\n",
              "    <tr>\n",
              "      <th>1493</th>\n",
              "      <td>194.713735</td>\n",
              "    </tr>\n",
              "    <tr>\n",
              "      <th>1112</th>\n",
              "      <td>409.922293</td>\n",
              "    </tr>\n",
              "    <tr>\n",
              "      <th>324</th>\n",
              "      <td>194.713735</td>\n",
              "    </tr>\n",
              "  </tbody>\n",
              "</table>\n",
              "</div><br><label><b>dtype:</b> float64</label>"
            ]
          },
          "metadata": {}
        }
      ]
    },
    {
      "cell_type": "code",
      "source": [],
      "metadata": {
        "id": "8GIymk6aUwa9"
      },
      "execution_count": null,
      "outputs": []
    }
  ]
}